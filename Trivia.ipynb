{
 "cells": [
  {
   "cell_type": "markdown",
   "metadata": {},
   "source": [
    "## Simple Python Trivia Game"
   ]
  },
  {
   "cell_type": "code",
   "execution_count": 8,
   "metadata": {},
   "outputs": [],
   "source": [
    "question_list = [\"Which is the world's largest Comapny By Market Shares ? \\n a) Apple \\n b) Saudi ARAMCO \\n c) AMAZON \\n d) MICROSOFT \" ,\n",
    "                 \"Who was the Chief Executing Officer of Microsoft before Satya Nadella ? \\n a) Bill Gates \\n b) Steve Ballmer \\n c) Paul Allen \\n d) None of the above \" , \n",
    "                 \"Microsoft recently acquired a gaming company ? \\n a) EA Games \\n b) Activision Blizzard \\n c) Zeni Max \\n d) Sega \" , \n",
    "                 \"What is the latest Invention of OpenAI Research Lab ? \\n a) GPT-3 \\n b) Jukebox \\n c) Image GPT \\n d) Neuralink \" , \n",
    "                 \"Who is the CEO of Google's Parent Company Alphabet ? \\n a) Larry Page \\n b) Sunder Pichai \\n c) Sergey Brin \\n d) Scott Huffman \"]"
   ]
  },
  {
   "cell_type": "code",
   "execution_count": 9,
   "metadata": {},
   "outputs": [],
   "source": [
    "answers = [\"a\", \"b\", \"c\", \"a\", \"b\"]"
   ]
  },
  {
   "cell_type": "code",
   "execution_count": 11,
   "metadata": {},
   "outputs": [
    {
     "name": "stdout",
     "output_type": "stream",
     "text": [
      "Q1. Which is the world's largest Comapny By Market Shares ? \n",
      " a) Apple \n",
      " b) Saudi ARAMCO \n",
      " c) AMAZON \n",
      " d) MICROSOFT \n",
      "Please enter your option:a\n",
      "\n",
      "\n",
      "Q2. Who was the Chief Executing Officer of Microsoft before Satya Nadella ? \n",
      " a) Bill Gates \n",
      " b) Steve Ballmer \n",
      " c) Paul Allen \n",
      " d) None of the above \n",
      "Please enter your option:b\n",
      "\n",
      "\n",
      "Q3. Microsoft recently acquired a gaming company ? \n",
      " a) EA Games \n",
      " b) Activision Blizzard \n",
      " c) Zeni Max \n",
      " d) Sega \n",
      "Please enter your option:c\n",
      "\n",
      "\n",
      "Q4. What is the latest Invention of OpenAI Research Lab ? \n",
      " a) GPT-3 \n",
      " b) Jukebox \n",
      " c) Image GPT \n",
      " d) Neuralink \n",
      "Please enter your option:a\n",
      "\n",
      "\n",
      "Q5. Who is the CEO of Google's Parent Company Alphabet ? \n",
      " a) Larry Page \n",
      " b) Sunder Pichai \n",
      " c) Sergey Brin \n",
      " d) Scott Huffman \n",
      "Please enter your option:b\n",
      "\n",
      "\n",
      "Amazing! Your final score was 5\n"
     ]
    }
   ],
   "source": [
    "score = 0\n",
    "\n",
    "for i, (que, ans) in enumerate(zip(question_list, answers)):\n",
    "    print(f'Q{i+1}. {que}')\n",
    "    user_inpt = input('Please enter your option:')\n",
    "    if user_inpt.lower() == ans:\n",
    "        score += 1\n",
    "    print('\\n')\n",
    "\n",
    "if score < 2: # 0, 1\n",
    "    print(f'Terrible! Your final score was {score}')\n",
    "elif score < 4 and score >= 2: # 2, 3\n",
    "    print(f'Not bad! Your final score was {score}')\n",
    "else: # 4, 5\n",
    "    print(f'Amazing! Your final score was {score}')"
   ]
  },
  {
   "cell_type": "code",
   "execution_count": null,
   "metadata": {},
   "outputs": [],
   "source": [
    "# made a new change"
   ]
  }
 ],
 "metadata": {
  "kernelspec": {
   "display_name": "Python 3",
   "language": "python",
   "name": "python3"
  },
  "language_info": {
   "codemirror_mode": {
    "name": "ipython",
    "version": 3
   },
   "file_extension": ".py",
   "mimetype": "text/x-python",
   "name": "python",
   "nbconvert_exporter": "python",
   "pygments_lexer": "ipython3",
   "version": "3.8.5"
  }
 },
 "nbformat": 4,
 "nbformat_minor": 4
}
